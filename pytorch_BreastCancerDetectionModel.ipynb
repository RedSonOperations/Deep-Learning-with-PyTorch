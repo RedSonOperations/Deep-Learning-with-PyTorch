{
  "nbformat": 4,
  "nbformat_minor": 0,
  "metadata": {
    "colab": {
      "provenance": []
    },
    "kernelspec": {
      "name": "python3",
      "display_name": "Python 3"
    },
    "language_info": {
      "name": "python"
    }
  },
  "cells": [
    {
      "cell_type": "code",
      "execution_count": 1,
      "metadata": {
        "colab": {
          "base_uri": "https://localhost:8080/"
        },
        "id": "7quJA6ONalqm",
        "outputId": "420bf115-773c-481d-c1c3-6b6aa250ee22"
      },
      "outputs": [
        {
          "output_type": "stream",
          "name": "stdout",
          "text": [
            "2.1.0+cu121, running on cpu\n"
          ]
        }
      ],
      "source": [
        "#!pip install torchmetrics\n",
        "import pandas as pd\n",
        "import numpy as np\n",
        "import torch\n",
        "from torch import nn\n",
        "import torchmetrics\n",
        "import seaborn as sns\n",
        "import matplotlib.pyplot as plt\n",
        "from torchmetrics import Accuracy, ConfusionMatrix\n",
        "from sklearn.datasets import load_breast_cancer\n",
        "device = 'cuda' if torch.cuda.is_available() else 'cpu'\n",
        "print(f\"{torch.__version__}, running on {device}\")"
      ]
    },
    {
      "cell_type": "code",
      "source": [
        "cancer = load_breast_cancer()\n",
        "df = pd.DataFrame(np.c_[cancer['data'], cancer['target']],\n",
        "                  columns= np.append(cancer['feature_names'], ['target']))\n",
        "df\n",
        "\n",
        "df.corr()['target']\n"
      ],
      "metadata": {
        "colab": {
          "base_uri": "https://localhost:8080/"
        },
        "id": "4ZzMcmehbPmU",
        "outputId": "74c81181-f206-4ab7-e6aa-1df40b6ccf74"
      },
      "execution_count": 2,
      "outputs": [
        {
          "output_type": "execute_result",
          "data": {
            "text/plain": [
              "mean radius               -0.730029\n",
              "mean texture              -0.415185\n",
              "mean perimeter            -0.742636\n",
              "mean area                 -0.708984\n",
              "mean smoothness           -0.358560\n",
              "mean compactness          -0.596534\n",
              "mean concavity            -0.696360\n",
              "mean concave points       -0.776614\n",
              "mean symmetry             -0.330499\n",
              "mean fractal dimension     0.012838\n",
              "radius error              -0.567134\n",
              "texture error              0.008303\n",
              "perimeter error           -0.556141\n",
              "area error                -0.548236\n",
              "smoothness error           0.067016\n",
              "compactness error         -0.292999\n",
              "concavity error           -0.253730\n",
              "concave points error      -0.408042\n",
              "symmetry error             0.006522\n",
              "fractal dimension error   -0.077972\n",
              "worst radius              -0.776454\n",
              "worst texture             -0.456903\n",
              "worst perimeter           -0.782914\n",
              "worst area                -0.733825\n",
              "worst smoothness          -0.421465\n",
              "worst compactness         -0.590998\n",
              "worst concavity           -0.659610\n",
              "worst concave points      -0.793566\n",
              "worst symmetry            -0.416294\n",
              "worst fractal dimension   -0.323872\n",
              "target                     1.000000\n",
              "Name: target, dtype: float64"
            ]
          },
          "metadata": {},
          "execution_count": 2
        }
      ]
    },
    {
      "cell_type": "code",
      "source": [
        "#select features\n",
        "#indices_to_del=[1, 4, 5, 8, 9, 10, 11, 12, 13, 14, 15, 16, 17, 18, 19, 21, 24, 25, 28, 29]\n",
        "#indices_to_del=[1, 4, 8, 9, 11, 14, 15, 16, 17, 18, 19, 21, 24, 28, 29]\n",
        "\n",
        "X=cancer.data\n",
        "\n",
        "y=cancer.target\n",
        "#X = np.delete(X, indices_to_del, axis=1)  # Remove columns with specified indices\n",
        "X=torch.from_numpy(X).type(torch.float32)\n",
        "y=torch.from_numpy(y).type(torch.float32)\n",
        "X.shape, y.shape\n",
        "INPUTS_ALL = X.shape[1]\n",
        "print(INPUTS_ALL)"
      ],
      "metadata": {
        "colab": {
          "base_uri": "https://localhost:8080/"
        },
        "id": "dOQCCWhLnnIa",
        "outputId": "f7199907-567f-497a-ea19-421e8c21d52f"
      },
      "execution_count": 3,
      "outputs": [
        {
          "output_type": "stream",
          "name": "stdout",
          "text": [
            "30\n"
          ]
        }
      ]
    },
    {
      "cell_type": "code",
      "source": [
        "from sklearn.model_selection import train_test_split\n",
        "\n",
        "# Split the data into training and testing sets (80% train, 20% test)\n",
        "X_train, X_test, y_train, y_test = train_test_split(X, y, test_size=0.2, random_state=42)\n"
      ],
      "metadata": {
        "id": "xeqXIHI9_dJy"
      },
      "execution_count": 4,
      "outputs": []
    },
    {
      "cell_type": "code",
      "source": [
        "# #ONLY RUN THESE CELLS FOR NON PYTORCH TRAINING OF MODEL AND COMMENT OUT numpy->torch above\n",
        "\n",
        "# from sklearn.linear_model import LogisticRegression\n",
        "\n",
        "# # Create a Logistic Regression model\n",
        "# model = LogisticRegression()\n",
        "\n",
        "# # Train the model\n",
        "# model.fit(X_train, y_train)"
      ],
      "metadata": {
        "id": "snjJ3ZIu_gd-"
      },
      "execution_count": 5,
      "outputs": []
    },
    {
      "cell_type": "code",
      "source": [
        "# from sklearn.metrics import accuracy_score, classification_report, confusion_matrix\n",
        "\n",
        "# # Predict on the test set\n",
        "# y_pred = model.predict(X_test)\n",
        "\n",
        "# # Calculate accuracy\n",
        "# accuracy = accuracy_score(y_test, y_pred)\n",
        "# print(f\"Accuracy: {accuracy}\")\n",
        "\n",
        "# # Other evaluation metrics\n",
        "# print(classification_report(y_test, y_pred))\n",
        "\n",
        "# # Confusion matrix\n",
        "# conf_matrix = confusion_matrix(y_test, y_pred)\n",
        "# print(\"Confusion Matrix:\")\n",
        "# print(conf_matrix)\n"
      ],
      "metadata": {
        "id": "xOnjfHTA_jzM"
      },
      "execution_count": 6,
      "outputs": []
    },
    {
      "cell_type": "code",
      "source": [
        "#train test split\n",
        "from sklearn.model_selection import train_test_split\n",
        "\n",
        "X_train, X_test, y_train, y_test = train_test_split(X, y, test_size=0.33, random_state=42)\n",
        "\n",
        "X_train.to(device)\n",
        "X_test.to(device)\n",
        "y_train.to(device)\n",
        "y_test.to(device)\n",
        "X_train.shape, X_test.shape, y_train.shape, y_test.shape"
      ],
      "metadata": {
        "colab": {
          "base_uri": "https://localhost:8080/"
        },
        "id": "4KEKdXA_oDJ2",
        "outputId": "428cdb57-8b38-4b20-82c6-ae998df26a68"
      },
      "execution_count": 7,
      "outputs": [
        {
          "output_type": "execute_result",
          "data": {
            "text/plain": [
              "(torch.Size([381, 30]),\n",
              " torch.Size([188, 30]),\n",
              " torch.Size([381]),\n",
              " torch.Size([188]))"
            ]
          },
          "metadata": {},
          "execution_count": 7
        }
      ]
    },
    {
      "cell_type": "code",
      "source": [
        "#define our model\n",
        "\n",
        "class CancerPredictionModel(nn.Module):\n",
        "  def __init__(self, in_features, hidden_neurons):\n",
        "    super().__init__()\n",
        "    self.layer1=nn.Linear(in_features=in_features, out_features=hidden_neurons)\n",
        "    self.layer2=nn.Linear(in_features=hidden_neurons, out_features=hidden_neurons)\n",
        "    self.layer3=nn.Linear(in_features=hidden_neurons, out_features=1)\n",
        "    self.sigmoid=nn.Sigmoid()\n",
        "  def forward(self, x: torch.Tensor)->torch.Tensor:\n",
        "    return self.sigmoid(self.layer3(self.sigmoid(self.layer2(self.sigmoid(self.layer1(x))))))\n",
        "\n",
        "breast_cancer_model = CancerPredictionModel(in_features=INPUTS_ALL, hidden_neurons=64).to(device)"
      ],
      "metadata": {
        "id": "Or132NWhom41"
      },
      "execution_count": 8,
      "outputs": []
    },
    {
      "cell_type": "code",
      "source": [
        "#define loss function, accuracy function, and optimizer\n",
        "\n",
        "loss_func = nn.BCELoss()\n",
        "\n",
        "optimizer = torch.optim.SGD(params=breast_cancer_model.parameters(), lr=0.008)\n",
        "\n",
        "def accuracy(y_test, y_preds):\n",
        "  correct=torch.eq(y_test, y_preds).sum().item()\n",
        "  return (correct/len(y_preds)) * 100\n"
      ],
      "metadata": {
        "id": "e67vrMccsePp"
      },
      "execution_count": 9,
      "outputs": []
    },
    {
      "cell_type": "code",
      "source": [
        "#train our model\n",
        "torch.manual_seed(42)\n",
        "epochs=9779\n",
        "epochs_arr = []\n",
        "train_loss_arr = []\n",
        "test_loss_arr = []\n",
        "train_acc_arr = []\n",
        "test_acc_arr = []\n",
        "patience = 1000  # Number of epochs to wait for improvement\n",
        "best_test_loss = np.inf  # Initializing with a large value\n",
        "counter = 0  # Counter to track epochs without improvement\n",
        "best_model_state = None  # To store the best model's state\n",
        "\n",
        "for epoch in range(epochs):\n",
        "  breast_cancer_model.train()\n",
        "  y_preds = (breast_cancer_model(X_train)).squeeze()\n",
        "\n",
        "  loss=loss_func(y_preds, y_train)\n",
        "  acc=torchmetrics.Accuracy(task='binary')\n",
        "  optimizer.zero_grad()\n",
        "\n",
        "  loss.backward()\n",
        "\n",
        "  optimizer.step()\n",
        "\n",
        "  breast_cancer_model.eval()\n",
        "\n",
        "  with torch.inference_mode():\n",
        "    test_preds = (breast_cancer_model(X_test)).squeeze()\n",
        "    test_loss = loss_func(test_preds, y_test)\n",
        "    test_acc = torchmetrics.Accuracy(task='binary')\n",
        "  epochs_arr.append(epoch)\n",
        "  train_loss_arr.append(loss.detach().numpy())\n",
        "  test_loss_arr.append(test_loss.detach().numpy())\n",
        "  train_acc_arr.append(acc(y_preds, y_train).detach().numpy())\n",
        "  test_acc_arr.append(test_acc(test_preds, y_test).detach().numpy())\n",
        "  if(epoch%100==0):\n",
        "     print(f\"Epoch {epoch} -- Training Accuracy: {acc(y_preds, y_train)}, Testing Accuracy: {test_acc(test_preds, y_test)}, Training Loss: {loss}, Testing Loss: {test_loss}\")\n",
        "  # Early stopping check\n",
        "  if test_acc < best_test_loss:\n",
        "      best_test_loss = test_acc\n",
        "      counter = 0\n",
        "      # Update the best model state\n",
        "      best_model_state = breast_cancer_model.state_dict()\n",
        "  else:\n",
        "      counter += 1\n",
        "      if counter >= patience:\n",
        "         print(f\"Early stopping at epoch {epoch}.\")\n",
        "         break\n",
        "\n",
        "# If early stopping occurred, load the best model state\n",
        "if best_model_state is not None:\n",
        "    breast_cancer_model.load_state_dict(best_model_state)"
      ],
      "metadata": {
        "colab": {
          "base_uri": "https://localhost:8080/"
        },
        "id": "QGp6ucq9rbNB",
        "outputId": "02147e3b-e60b-48ea-96f6-2b47b674c9b8"
      },
      "execution_count": 10,
      "outputs": [
        {
          "output_type": "stream",
          "name": "stdout",
          "text": [
            "Epoch 0 -- Training Accuracy: 0.38057741522789, Testing Accuracy: 0.35638296604156494, Training Loss: 0.7326962351799011, Testing Loss: 0.7333889603614807\n",
            "Epoch 100 -- Training Accuracy: 0.6194225549697876, Testing Accuracy: 0.6436170339584351, Training Loss: 0.6587244272232056, Testing Loss: 0.6466946005821228\n",
            "Epoch 200 -- Training Accuracy: 0.6194225549697876, Testing Accuracy: 0.6436170339584351, Training Loss: 0.655565619468689, Testing Loss: 0.6426769495010376\n",
            "Epoch 300 -- Training Accuracy: 0.6194225549697876, Testing Accuracy: 0.6436170339584351, Training Loss: 0.6526442766189575, Testing Loss: 0.6393625140190125\n",
            "Epoch 400 -- Training Accuracy: 0.6194225549697876, Testing Accuracy: 0.6436170339584351, Training Loss: 0.6495225429534912, Testing Loss: 0.6358228921890259\n",
            "Epoch 500 -- Training Accuracy: 0.6194225549697876, Testing Accuracy: 0.6436170339584351, Training Loss: 0.6460732817649841, Testing Loss: 0.6319660544395447\n",
            "Epoch 600 -- Training Accuracy: 0.6194225549697876, Testing Accuracy: 0.6436170339584351, Training Loss: 0.6422205567359924, Testing Loss: 0.6275911927223206\n",
            "Epoch 700 -- Training Accuracy: 0.6194225549697876, Testing Accuracy: 0.6436170339584351, Training Loss: 0.6370576024055481, Testing Loss: 0.621668815612793\n",
            "Epoch 800 -- Training Accuracy: 0.6194225549697876, Testing Accuracy: 0.6436170339584351, Training Loss: 0.631010890007019, Testing Loss: 0.6149045825004578\n",
            "Epoch 900 -- Training Accuracy: 0.6194225549697876, Testing Accuracy: 0.6436170339584351, Training Loss: 0.6241377592086792, Testing Loss: 0.6070612072944641\n",
            "Epoch 1000 -- Training Accuracy: 0.6194225549697876, Testing Accuracy: 0.6436170339584351, Training Loss: 0.6167229413986206, Testing Loss: 0.5986620187759399\n",
            "Epoch 1100 -- Training Accuracy: 0.6194225549697876, Testing Accuracy: 0.6436170339584351, Training Loss: 0.6085148453712463, Testing Loss: 0.5893056988716125\n",
            "Epoch 1200 -- Training Accuracy: 0.6194225549697876, Testing Accuracy: 0.6436170339584351, Training Loss: 0.5993987321853638, Testing Loss: 0.5789280533790588\n",
            "Epoch 1300 -- Training Accuracy: 0.6194225549697876, Testing Accuracy: 0.6436170339584351, Training Loss: 0.5892809629440308, Testing Loss: 0.5674620866775513\n",
            "Epoch 1400 -- Training Accuracy: 0.6194225549697876, Testing Accuracy: 0.6436170339584351, Training Loss: 0.5781542062759399, Testing Loss: 0.554945707321167\n",
            "Epoch 1500 -- Training Accuracy: 0.6194225549697876, Testing Accuracy: 0.6436170339584351, Training Loss: 0.5669279098510742, Testing Loss: 0.5416737198829651\n",
            "Epoch 1600 -- Training Accuracy: 0.6194225549697876, Testing Accuracy: 0.6436170339584351, Training Loss: 0.5546968579292297, Testing Loss: 0.5273040533065796\n",
            "Epoch 1700 -- Training Accuracy: 0.8031495809555054, Testing Accuracy: 0.8776595592498779, Training Loss: 0.5409770011901855, Testing Loss: 0.5118615627288818\n",
            "Epoch 1800 -- Training Accuracy: 0.8635170459747314, Testing Accuracy: 0.936170220375061, Training Loss: 0.5262528657913208, Testing Loss: 0.4944487512111664\n",
            "Epoch 1900 -- Training Accuracy: 0.8713910579681396, Testing Accuracy: 0.9255319237709045, Training Loss: 0.5122700929641724, Testing Loss: 0.48137930035591125\n",
            "Epoch 2000 -- Training Accuracy: 0.8845144510269165, Testing Accuracy: 0.9414893388748169, Training Loss: 0.4940280020236969, Testing Loss: 0.45773622393608093\n",
            "Epoch 2100 -- Training Accuracy: 0.8845144510269165, Testing Accuracy: 0.936170220375061, Training Loss: 0.4771576225757599, Testing Loss: 0.43700116872787476\n",
            "Epoch 2200 -- Training Accuracy: 0.8897637724876404, Testing Accuracy: 0.9414893388748169, Training Loss: 0.45895859599113464, Testing Loss: 0.41675007343292236\n",
            "Epoch 2300 -- Training Accuracy: 0.8950130939483643, Testing Accuracy: 0.9414893388748169, Training Loss: 0.4395439922809601, Testing Loss: 0.39606428146362305\n",
            "Epoch 2400 -- Training Accuracy: 0.8766404390335083, Testing Accuracy: 0.8776595592498779, Training Loss: 0.4445129930973053, Testing Loss: 0.43363457918167114\n",
            "Epoch 2500 -- Training Accuracy: 0.8950130939483643, Testing Accuracy: 0.9414893388748169, Training Loss: 0.4087654948234558, Testing Loss: 0.35635825991630554\n",
            "Epoch 2600 -- Training Accuracy: 0.8845144510269165, Testing Accuracy: 0.9414893388748169, Training Loss: 0.3990001976490021, Testing Loss: 0.3451436161994934\n",
            "Epoch 2700 -- Training Accuracy: 0.8950130939483643, Testing Accuracy: 0.9521276354789734, Training Loss: 0.38345834612846375, Testing Loss: 0.3259200155735016\n",
            "Epoch 2800 -- Training Accuracy: 0.8923884630203247, Testing Accuracy: 0.9468085169792175, Training Loss: 0.3753233253955841, Testing Loss: 0.31540122628211975\n",
            "Epoch 2900 -- Training Accuracy: 0.8976377844810486, Testing Accuracy: 0.9255319237709045, Training Loss: 0.36336666345596313, Testing Loss: 0.32039204239845276\n",
            "Epoch 3000 -- Training Accuracy: 0.8293963074684143, Testing Accuracy: 0.8617021441459656, Training Loss: 0.42903488874435425, Testing Loss: 0.4119434356689453\n",
            "Epoch 3100 -- Training Accuracy: 0.847769021987915, Testing Accuracy: 0.8936170339584351, Training Loss: 0.40593576431274414, Testing Loss: 0.3686143159866333\n",
            "Epoch 3200 -- Training Accuracy: 0.9055117964744568, Testing Accuracy: 0.9468085169792175, Training Loss: 0.3332943022251129, Testing Loss: 0.25437986850738525\n",
            "Epoch 3300 -- Training Accuracy: 0.8713910579681396, Testing Accuracy: 0.9255319237709045, Training Loss: 0.3739757239818573, Testing Loss: 0.29491716623306274\n",
            "Epoch 3400 -- Training Accuracy: 0.8792650699615479, Testing Accuracy: 0.9255319237709045, Training Loss: 0.3293791115283966, Testing Loss: 0.26310572028160095\n",
            "Epoch 3500 -- Training Accuracy: 0.8845144510269165, Testing Accuracy: 0.9255319237709045, Training Loss: 0.3700084090232849, Testing Loss: 0.27466434240341187\n",
            "Epoch 3600 -- Training Accuracy: 0.913385808467865, Testing Accuracy: 0.9521276354789734, Training Loss: 0.3026283383369446, Testing Loss: 0.22197982668876648\n",
            "Epoch 3700 -- Training Accuracy: 0.8267716765403748, Testing Accuracy: 0.9308510422706604, Training Loss: 0.4012148082256317, Testing Loss: 0.2711787819862366\n",
            "Epoch 3800 -- Training Accuracy: 0.9028871655464172, Testing Accuracy: 0.9468085169792175, Training Loss: 0.2938106954097748, Testing Loss: 0.20616452395915985\n",
            "Epoch 3900 -- Training Accuracy: 0.8845144510269165, Testing Accuracy: 0.9308510422706604, Training Loss: 0.32044827938079834, Testing Loss: 0.23269225656986237\n",
            "Epoch 4000 -- Training Accuracy: 0.8950130939483643, Testing Accuracy: 0.8989361524581909, Training Loss: 0.3126784861087799, Testing Loss: 0.2669847309589386\n",
            "Epoch 4100 -- Training Accuracy: 0.9055117964744568, Testing Accuracy: 0.9680851101875305, Training Loss: 0.27877387404441833, Testing Loss: 0.20551523566246033\n",
            "Epoch 4200 -- Training Accuracy: 0.8923884630203247, Testing Accuracy: 0.957446813583374, Training Loss: 0.2920891344547272, Testing Loss: 0.18975088000297546\n",
            "Epoch 4300 -- Training Accuracy: 0.9002624750137329, Testing Accuracy: 0.9521276354789734, Training Loss: 0.27381590008735657, Testing Loss: 0.2039085179567337\n",
            "Epoch 4400 -- Training Accuracy: 0.8713910579681396, Testing Accuracy: 0.8989361524581909, Training Loss: 0.3070864677429199, Testing Loss: 0.24439145624637604\n",
            "Epoch 4500 -- Training Accuracy: 0.8897637724876404, Testing Accuracy: 0.9468085169792175, Training Loss: 0.3110273778438568, Testing Loss: 0.20408748090267181\n",
            "Epoch 4600 -- Training Accuracy: 0.8766404390335083, Testing Accuracy: 0.9202127456665039, Training Loss: 0.28886112570762634, Testing Loss: 0.23070509731769562\n",
            "Epoch 4700 -- Training Accuracy: 0.8923884630203247, Testing Accuracy: 0.957446813583374, Training Loss: 0.27947086095809937, Testing Loss: 0.2001553326845169\n",
            "Epoch 4800 -- Training Accuracy: 0.9160104990005493, Testing Accuracy: 0.957446813583374, Training Loss: 0.2595268189907074, Testing Loss: 0.17002330720424652\n",
            "Epoch 4900 -- Training Accuracy: 0.9055117964744568, Testing Accuracy: 0.957446813583374, Training Loss: 0.2620767056941986, Testing Loss: 0.15762430429458618\n",
            "Epoch 5000 -- Training Accuracy: 0.9107611775398254, Testing Accuracy: 0.9627659320831299, Training Loss: 0.25849300622940063, Testing Loss: 0.1688767969608307\n",
            "Epoch 5100 -- Training Accuracy: 0.9081364870071411, Testing Accuracy: 0.957446813583374, Training Loss: 0.2552616000175476, Testing Loss: 0.16596446931362152\n",
            "Epoch 5200 -- Training Accuracy: 0.9055117964744568, Testing Accuracy: 0.9468085169792175, Training Loss: 0.25650322437286377, Testing Loss: 0.194715678691864\n",
            "Epoch 5300 -- Training Accuracy: 0.8923884630203247, Testing Accuracy: 0.9468085169792175, Training Loss: 0.2535042464733124, Testing Loss: 0.1711973249912262\n",
            "Epoch 5400 -- Training Accuracy: 0.9055117964744568, Testing Accuracy: 0.9414893388748169, Training Loss: 0.24777308106422424, Testing Loss: 0.18823213875293732\n",
            "Epoch 5500 -- Training Accuracy: 0.9055117964744568, Testing Accuracy: 0.914893627166748, Training Loss: 0.26286032795906067, Testing Loss: 0.20042084157466888\n",
            "Epoch 5600 -- Training Accuracy: 0.9107611775398254, Testing Accuracy: 0.957446813583374, Training Loss: 0.260870099067688, Testing Loss: 0.21903668344020844\n",
            "Epoch 5700 -- Training Accuracy: 0.9028871655464172, Testing Accuracy: 0.9468085169792175, Training Loss: 0.24650411307811737, Testing Loss: 0.16933973133563995\n",
            "Epoch 5800 -- Training Accuracy: 0.9002624750137329, Testing Accuracy: 0.9468085169792175, Training Loss: 0.2574270963668823, Testing Loss: 0.15677742660045624\n",
            "Epoch 5900 -- Training Accuracy: 0.913385808467865, Testing Accuracy: 0.9521276354789734, Training Loss: 0.23162654042243958, Testing Loss: 0.15263426303863525\n",
            "Epoch 6000 -- Training Accuracy: 0.9081364870071411, Testing Accuracy: 0.936170220375061, Training Loss: 0.24139404296875, Testing Loss: 0.19964346289634705\n",
            "Epoch 6100 -- Training Accuracy: 0.9081364870071411, Testing Accuracy: 0.9680851101875305, Training Loss: 0.2509547173976898, Testing Loss: 0.14391806721687317\n",
            "Epoch 6200 -- Training Accuracy: 0.913385808467865, Testing Accuracy: 0.9680851101875305, Training Loss: 0.24559831619262695, Testing Loss: 0.15027615427970886\n",
            "Epoch 6300 -- Training Accuracy: 0.913385808467865, Testing Accuracy: 0.9468085169792175, Training Loss: 0.24788495898246765, Testing Loss: 0.16635490953922272\n",
            "Epoch 6400 -- Training Accuracy: 0.9212598204612732, Testing Accuracy: 0.957446813583374, Training Loss: 0.22688958048820496, Testing Loss: 0.16424541175365448\n",
            "Epoch 6500 -- Training Accuracy: 0.9265092015266418, Testing Accuracy: 0.9521276354789734, Training Loss: 0.2265632599592209, Testing Loss: 0.15134896337985992\n",
            "Epoch 6600 -- Training Accuracy: 0.9028871655464172, Testing Accuracy: 0.957446813583374, Training Loss: 0.24626533687114716, Testing Loss: 0.17631447315216064\n",
            "Epoch 6700 -- Training Accuracy: 0.9186351895332336, Testing Accuracy: 0.9521276354789734, Training Loss: 0.2370489090681076, Testing Loss: 0.1571676880121231\n",
            "Epoch 6800 -- Training Accuracy: 0.9212598204612732, Testing Accuracy: 0.9521276354789734, Training Loss: 0.23213255405426025, Testing Loss: 0.16038896143436432\n",
            "Epoch 6900 -- Training Accuracy: 0.9002624750137329, Testing Accuracy: 0.9468085169792175, Training Loss: 0.23751004040241241, Testing Loss: 0.15903599560260773\n",
            "Epoch 7000 -- Training Accuracy: 0.9028871655464172, Testing Accuracy: 0.9414893388748169, Training Loss: 0.24968694150447845, Testing Loss: 0.15263240039348602\n",
            "Epoch 7100 -- Training Accuracy: 0.9107611775398254, Testing Accuracy: 0.957446813583374, Training Loss: 0.22076761722564697, Testing Loss: 0.1316777467727661\n",
            "Epoch 7200 -- Training Accuracy: 0.9081364870071411, Testing Accuracy: 0.9521276354789734, Training Loss: 0.2177455872297287, Testing Loss: 0.1433531939983368\n",
            "Epoch 7300 -- Training Accuracy: 0.9107611775398254, Testing Accuracy: 0.9468085169792175, Training Loss: 0.23189184069633484, Testing Loss: 0.15340971946716309\n",
            "Epoch 7400 -- Training Accuracy: 0.8897637724876404, Testing Accuracy: 0.9521276354789734, Training Loss: 0.28398483991622925, Testing Loss: 0.15694166719913483\n",
            "Epoch 7500 -- Training Accuracy: 0.9160104990005493, Testing Accuracy: 0.9468085169792175, Training Loss: 0.22761909663677216, Testing Loss: 0.16658152639865875\n",
            "Epoch 7600 -- Training Accuracy: 0.9212598204612732, Testing Accuracy: 0.957446813583374, Training Loss: 0.2127404659986496, Testing Loss: 0.14949317276477814\n",
            "Epoch 7700 -- Training Accuracy: 0.913385808467865, Testing Accuracy: 0.9521276354789734, Training Loss: 0.21851575374603271, Testing Loss: 0.14344748854637146\n",
            "Epoch 7800 -- Training Accuracy: 0.9186351895332336, Testing Accuracy: 0.9414893388748169, Training Loss: 0.21981856226921082, Testing Loss: 0.15558114647865295\n",
            "Epoch 7900 -- Training Accuracy: 0.9055117964744568, Testing Accuracy: 0.9414893388748169, Training Loss: 0.24823299050331116, Testing Loss: 0.1548464149236679\n",
            "Epoch 8000 -- Training Accuracy: 0.8950130939483643, Testing Accuracy: 0.9468085169792175, Training Loss: 0.24358512461185455, Testing Loss: 0.14562015235424042\n",
            "Epoch 8100 -- Training Accuracy: 0.9107611775398254, Testing Accuracy: 0.9680851101875305, Training Loss: 0.22849319875240326, Testing Loss: 0.12683434784412384\n",
            "Epoch 8200 -- Training Accuracy: 0.9107611775398254, Testing Accuracy: 0.9468085169792175, Training Loss: 0.22871410846710205, Testing Loss: 0.14252638816833496\n",
            "Epoch 8300 -- Training Accuracy: 0.9291338324546814, Testing Accuracy: 0.9468085169792175, Training Loss: 0.21340948343276978, Testing Loss: 0.14163531363010406\n",
            "Epoch 8400 -- Training Accuracy: 0.9081364870071411, Testing Accuracy: 0.9627659320831299, Training Loss: 0.21396254003047943, Testing Loss: 0.13487608730793\n",
            "Epoch 8500 -- Training Accuracy: 0.9081364870071411, Testing Accuracy: 0.9468085169792175, Training Loss: 0.23110750317573547, Testing Loss: 0.14715297520160675\n",
            "Epoch 8600 -- Training Accuracy: 0.9265092015266418, Testing Accuracy: 0.9627659320831299, Training Loss: 0.20490585267543793, Testing Loss: 0.13632012903690338\n",
            "Epoch 8700 -- Training Accuracy: 0.9238845109939575, Testing Accuracy: 0.9521276354789734, Training Loss: 0.21607014536857605, Testing Loss: 0.1301431804895401\n",
            "Epoch 8800 -- Training Accuracy: 0.9212598204612732, Testing Accuracy: 0.9521276354789734, Training Loss: 0.20630177855491638, Testing Loss: 0.1389099806547165\n",
            "Epoch 8900 -- Training Accuracy: 0.9212598204612732, Testing Accuracy: 0.9521276354789734, Training Loss: 0.21171967685222626, Testing Loss: 0.14811022579669952\n",
            "Epoch 9000 -- Training Accuracy: 0.9028871655464172, Testing Accuracy: 0.957446813583374, Training Loss: 0.240688294172287, Testing Loss: 0.1473781168460846\n",
            "Epoch 9100 -- Training Accuracy: 0.9212598204612732, Testing Accuracy: 0.9521276354789734, Training Loss: 0.21345466375350952, Testing Loss: 0.13616499304771423\n",
            "Epoch 9200 -- Training Accuracy: 0.913385808467865, Testing Accuracy: 0.9468085169792175, Training Loss: 0.22178663313388824, Testing Loss: 0.18388524651527405\n",
            "Epoch 9300 -- Training Accuracy: 0.913385808467865, Testing Accuracy: 0.9414893388748169, Training Loss: 0.2037096470594406, Testing Loss: 0.1433270275592804\n",
            "Epoch 9400 -- Training Accuracy: 0.9160104990005493, Testing Accuracy: 0.9680851101875305, Training Loss: 0.21289457380771637, Testing Loss: 0.14356833696365356\n",
            "Epoch 9500 -- Training Accuracy: 0.9265092015266418, Testing Accuracy: 0.9521276354789734, Training Loss: 0.2010660469532013, Testing Loss: 0.15454216301441193\n",
            "Epoch 9600 -- Training Accuracy: 0.9107611775398254, Testing Accuracy: 0.936170220375061, Training Loss: 0.21243628859519958, Testing Loss: 0.15762950479984283\n",
            "Epoch 9700 -- Training Accuracy: 0.9238845109939575, Testing Accuracy: 0.9627659320831299, Training Loss: 0.21085810661315918, Testing Loss: 0.14815522730350494\n"
          ]
        }
      ]
    },
    {
      "cell_type": "code",
      "source": [
        "min_trainloss=np.argmin(train_loss_arr)\n",
        "epoch_min_trainloss=epochs_arr[min_trainloss]\n",
        "\n",
        "min_testloss=np.argmin(test_loss_arr)\n",
        "epoch_min_testloss=epochs_arr[min_testloss]\n",
        "\n",
        "max_trainacc=np.argmax(train_acc_arr)\n",
        "epoch_max_trainacc=epochs_arr[max_trainacc]\n",
        "\n",
        "max_testacc=np.argmax(test_acc_arr)\n",
        "epoch_max_testacc=epochs_arr[max_testacc]\n",
        "\n",
        "#choose a metric preference - optimal loss and accuracy params, epoch # @ these\n",
        "print(f\"Min training loss: {np.min(train_loss_arr)}, Epoch # {epoch_min_trainloss}\")\n",
        "print(f\"Min testing loss: {np.min(test_loss_arr)}, Epoch # {epoch_min_testloss}\")\n",
        "print(f\"Max training accuracy: {np.max(train_acc_arr)}, Epoch # {epoch_max_trainacc}\")\n",
        "print(f\"Max testing accuracy: {np.max(test_acc_arr)}, Epoch # {epoch_max_testacc}\")\n",
        "\n",
        "cf_train=torchmetrics.ConfusionMatrix(task='binary')\n",
        "cf_train(y_preds, y_train)\n",
        "print(\"Training Data\")\n",
        "cf_train.plot()\n",
        "cf_test=torchmetrics.ConfusionMatrix(task='binary')\n",
        "cf_test(test_preds, y_test)\n",
        "print(\"Testing Data\")\n",
        "cf_test.plot()\n",
        "\n",
        "#conclusion: if we eliminate variables that do not have a high correlation with targets, we can use less neurons and layers thus reducing computational resources to gain nearly as accurate predictions as original data with more neurons and layers\n",
        "#with 20,000 epochs, we get the following results (increase epochs to decrease loss):\n",
        "#~94% training accuracy, ~97.5% testing accuracy, ~0.1 testing loss with low corr variables eliminated, 1 hidden layer, 64 neurons, lr=0.008\n",
        "#for consistent results and growth of accuracy/decrease of loss, use smaller learning rate with more epochs\n",
        "#~94.3% training accuracy, ~98% testing accuracy, ~0.095 testing loss with all original data, 2 hidden layers, 64 neurons, lr=0.01\n",
        "#~94.5% training accuracy, ~97.3% testing accuracy, ~0.090 testing loss with all original data, 1 hidden layer, 64 neurons, lr=0.01\n"
      ],
      "metadata": {
        "colab": {
          "base_uri": "https://localhost:8080/",
          "height": 1000
        },
        "id": "kIL37we8GVV5",
        "outputId": "6383a336-2d2a-4737-de93-ab00ad42d72d"
      },
      "execution_count": 11,
      "outputs": [
        {
          "output_type": "stream",
          "name": "stdout",
          "text": [
            "Min training loss: 0.1937439888715744, Epoch # 9004\n",
            "Min testing loss: 0.11106587201356888, Epoch # 9295\n",
            "Max training accuracy: 0.93438321352005, Epoch # 9153\n",
            "Max testing accuracy: 0.9734042286872864, Epoch # 5206\n"
          ]
        },
        {
          "output_type": "execute_result",
          "data": {
            "text/plain": [
              "(<Figure size 640x480 with 1 Axes>,\n",
              " <Axes: xlabel='Predicted class', ylabel='True class'>)"
            ]
          },
          "metadata": {},
          "execution_count": 11
        },
        {
          "output_type": "display_data",
          "data": {
            "text/plain": [
              "<Figure size 640x480 with 1 Axes>"
            ],
            "image/png": "[encoded data removed]"
          },
          "metadata": {}
        },
        {
          "output_type": "display_data",
          "data": {
            "text/plain": [
              "<Figure size 640x480 with 1 Axes>"
            ],
            "image/png": "[encoded data removed]"
          },
          "metadata": {}
        }
      ]
    },
    {
      "cell_type": "code",
      "source": [],
      "metadata": {
        "id": "OeHm_-XRLs9e"
      },
      "execution_count": 11,
      "outputs": []
    }
  ]
}